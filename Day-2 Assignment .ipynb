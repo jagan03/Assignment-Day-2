{
 "cells": [
  {
   "cell_type": "markdown",
   "metadata": {},
   "source": [
    "# Q1)"
   ]
  },
  {
   "cell_type": "code",
   "execution_count": 1,
   "metadata": {},
   "outputs": [
    {
     "name": "stdout",
     "output_type": "stream",
     "text": [
      "2\n",
      "3\n",
      "4\n",
      "6\n",
      "8\n",
      "7\n",
      "10\n",
      "5\n",
      "9\n",
      "16\n",
      "[2, 4, 6, 8, 10, 16]\n"
     ]
    }
   ],
   "source": [
    "sample_list = list()\n",
    "\n",
    "for i in range(10):\n",
    "    num = int(input())\n",
    "    if num % 2 == 0:\n",
    "        sample_list.append(num)\n",
    "\n",
    "print(sample_list)"
   ]
  },
  {
   "cell_type": "markdown",
   "metadata": {},
   "source": [
    "# Q2)"
   ]
  },
  {
   "cell_type": "code",
   "execution_count": 2,
   "metadata": {},
   "outputs": [
    {
     "name": "stdout",
     "output_type": "stream",
     "text": [
      "[2, 4, 6, 8, 10]\n",
      "[1, 4, 9, 16, 25, 36, 49, 64, 81, 100, 121, 144, 169, 196, 225, 256, 289, 324, 361, 400]\n"
     ]
    }
   ],
   "source": [
    "lst = [i for i in range(2, 11, 2)]\n",
    "print(lst)\n",
    "\n",
    "lst2 = [i*i for i in range(1, 21) if i%1 == 0]\n",
    "print(lst2)"
   ]
  },
  {
   "cell_type": "markdown",
   "metadata": {},
   "source": [
    "# Q3)"
   ]
  },
  {
   "cell_type": "code",
   "execution_count": 3,
   "metadata": {},
   "outputs": [
    {
     "name": "stdout",
     "output_type": "stream",
     "text": [
      "10\n",
      "{1: 1, 2: 4, 3: 9, 4: 16, 5: 25, 6: 36, 7: 49, 8: 64, 9: 81, 10: 100}\n"
     ]
    }
   ],
   "source": [
    "n= int(input())\n",
    "\n",
    "sample_dict=dict()\n",
    "\n",
    "for i in range(1, n+1):\n",
    "    sample_dict.update({i:i*i})\n",
    "    \n",
    "print(sample_dict)\n"
   ]
  },
  {
   "cell_type": "markdown",
   "metadata": {},
   "source": [
    "# Q4)"
   ]
  },
  {
   "cell_type": "code",
   "execution_count": 5,
   "metadata": {},
   "outputs": [
    {
     "name": "stdout",
     "output_type": "stream",
     "text": [
      "4\n",
      "UP 5\n",
      "DOWN 3\n",
      "LEFT 3\n",
      "RIGHT 2\n",
      "2\n"
     ]
    }
   ],
   "source": [
    "from math import sqrt\n",
    "\n",
    "n = int(input())\n",
    "\n",
    "x,y = 0, 0\n",
    "\n",
    "for i in range(1,n+1):\n",
    "    direction, dist = input().split() \n",
    "    dist = int(dist)\n",
    "    if direction == 'UP':\n",
    "        y = y + dist\n",
    "    elif direction == 'DOWN':\n",
    "        y = y - dist\n",
    "    elif direction == 'LEFT':\n",
    "        x = x - dist\n",
    "    elif direction == 'RIGHT':\n",
    "        x = x + dist\n",
    "    else:\n",
    "        print('INVALID Input')\n",
    "        break\n",
    "        \n",
    "distance = int(round(sqrt(x**2+y**2), 0))\n",
    "\n",
    "print(distance)\n"
   ]
  },
  {
   "cell_type": "markdown",
   "metadata": {},
   "source": [
    "# Here is my Day-2 Assignment"
   ]
  }
 ],
 "metadata": {
  "kernelspec": {
   "display_name": "Python 3",
   "language": "python",
   "name": "python3"
  },
  "language_info": {
   "codemirror_mode": {
    "name": "ipython",
    "version": 3
   },
   "file_extension": ".py",
   "mimetype": "text/x-python",
   "name": "python",
   "nbconvert_exporter": "python",
   "pygments_lexer": "ipython3",
   "version": "3.8.3"
  }
 },
 "nbformat": 4,
 "nbformat_minor": 4
}
